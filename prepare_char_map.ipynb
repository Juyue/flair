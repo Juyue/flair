{
 "cells": [
  {
   "cell_type": "code",
   "execution_count": null,
   "metadata": {},
   "outputs": [],
   "source": [
    "# create character dictionary.\n",
    "from flair.data import Dictionary\n",
    "char_dictionary: Dictionary = Dictionary()\n",
    "    \n",
    " # counter object\n",
    "import collections\n",
    "counter = collections.Counter()\n",
    "\n",
    "processed = 0\n",
    "\n",
    "import glob\n",
    "import os\n",
    "data_folder = '/home/jupyter/data_ner/'\n",
    "files = glob.glob(os.path.join(data_folder, '*_raw.txt'))\n",
    "print(files)"
   ]
  },
  {
   "cell_type": "code",
   "execution_count": null,
   "metadata": {},
   "outputs": [],
   "source": [
    "for file in files:\n",
    "    print(file)\n",
    "\n",
    "    with open(file, 'r', encoding='utf-8') as f:\n",
    "        tokens = 0\n",
    "        for line in f:\n",
    "\n",
    "            processed += 1            \n",
    "            chars = list(line)\n",
    "            tokens += len(chars)\n",
    "\n",
    "            # Add chars to the dictionary\n",
    "            counter.update(chars)\n",
    "total_count = 0\n",
    "for letter, count in counter.most_common():\n",
    "    total_count += count\n",
    "\n",
    "print(total_count)\n",
    "print(processed)"
   ]
  },
  {
   "cell_type": "code",
   "execution_count": null,
   "metadata": {},
   "outputs": [],
   "source": [
    "sum_ = 0\n",
    "idx = 0\n",
    "for letter, count in counter.most_common():\n",
    "    sum_ += count\n",
    "    percentile = (sum_ / total_count)\n",
    "\n",
    "    # comment this line in to use only top X percentile of chars, otherwise filter later\n",
    "    # if percentile < 0.00001: break\n",
    "\n",
    "    char_dictionary.add_item(letter)\n",
    "    idx += 1\n",
    "    print('%d\\t%s\\t%7d\\t%7d\\t%f' % (idx, letter, count, sum_, percentile))\n",
    "\n",
    "print(char_dictionary.item2idx)\n"
   ]
  },
  {
   "cell_type": "code",
   "execution_count": null,
   "metadata": {},
   "outputs": [],
   "source": [
    "import pickle\n",
    "with open('/home/jupyter/data_ner/ara_char_mappings', 'wb') as f:\n",
    "    mappings = {\n",
    "        'idx2item': char_dictionary.idx2item,\n",
    "        'item2idx': char_dictionary.item2idx\n",
    "    }\n",
    "    pickle.dump(mappings, f)"
   ]
  },
  {
   "cell_type": "code",
   "execution_count": null,
   "metadata": {},
   "outputs": [],
   "source": []
  }
 ],
 "metadata": {
  "kernelspec": {
   "display_name": "Python 3",
   "language": "python",
   "name": "python3"
  },
  "language_info": {
   "codemirror_mode": {
    "name": "ipython",
    "version": 3
   },
   "file_extension": ".py",
   "mimetype": "text/x-python",
   "name": "python",
   "nbconvert_exporter": "python",
   "pygments_lexer": "ipython3",
   "version": "3.7.3"
  }
 },
 "nbformat": 4,
 "nbformat_minor": 2
}
