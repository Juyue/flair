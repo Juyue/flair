{
 "cells": [
  {
   "cell_type": "code",
   "execution_count": 1,
   "metadata": {},
   "outputs": [],
   "source": [
    "import pandas as pd\n",
    "from datetime import datetime as dt\n",
    "from pathlib import Path\n",
    "path = '/home/jupyter/data_ner_ANER/ANERCorp.xlsx'\n",
    "xlsx = pd.ExcelFile(path)\n",
    "df = pd.read_excel(xlsx, header=None)\n",
    "df = df.drop(2, axis=1)\n",
    "df = df.rename(columns={0: 'text', 1:'label'})"
   ]
  },
  {
   "cell_type": "code",
   "execution_count": 90,
   "metadata": {},
   "outputs": [
    {
     "name": "stdout",
     "output_type": "stream",
     "text": [
      "several words\n",
      ". O\n",
      "strange text\n",
      "text     فيرسلاين\n",
      "label       B-PER\n",
      "Name: 83703, dtype: object\n",
      "could not use re\n",
      "text        16\n",
      "label    I-PER\n",
      "Name: 128136, dtype: object\n",
      "could not use re\n",
      "text        16\n",
      "label    I-PER\n",
      "Name: 128367, dtype: object\n"
     ]
    }
   ],
   "source": [
    "df_corrected = df.copy()\n",
    "tag_dict = {'O','B-PER','I-PER','B-LOC','I-LOC','B-ORG','I-ORG','B-MISC','I-MISC'}\n",
    "delete_line = []\n",
    "for index, row in df_corrected.iterrows():\n",
    "    if row['label'] in {'B-PERS', 'B-PERs', 'B-ERS'}:\n",
    "        row['label'] = 'B-PER' \n",
    "    elif row['label'] in {'I-PERS', 'IPERS'}:\n",
    "        row['label'] = 'I-PER'\n",
    "    elif row['label'] in {'O\"', 'o'}:\n",
    "        row['label'] = 'O'\n",
    "    elif row['label'] in {'I-PRG'}:\n",
    "        row['label'] = 'I-ORG'\n",
    "    elif row['label'] in {'B-PRG', 'B-OEG','B-ORF'}:\n",
    "        row['label'] = 'B-ORG'\n",
    "    elif row['label'] in {'B-LOCI-PERS'}:\n",
    "        row['label'] = 'B-LOC'\n",
    "    elif row['label'] in {'b-misc', 'B-MSIC'}:\n",
    "        row['label'] = 'B-MISC'\n",
    "    elif row['label'] in {'i-misc'}:\n",
    "        row['label'] = 'I-MISC'       \n",
    "    elif row['label'] in {'00:00:00\"'}:\n",
    "        row['label'] = 'O'\n",
    "    elif row['label'] in tag_dict:\n",
    "        continue\n",
    "        \n",
    "        \n",
    "    if row['text'] in {' O', 'O\"', 'O'}:\n",
    "        delete_line.append(index)\n",
    "        \n",
    "    if row['text'] in {str(b'\\xd9\\x81\\xd9\\x8a\\xd8\\xb1\\xd8\\xb3\\xd9\\x84\\xd8\\xa7\\xd9\\x8a\\xd9\\x86', 'utf-8'), \n",
    "                       str(b'\\xd8\\xa7\\xd9\\x84\\xd8\\xa5\\xd8\\xb5\\xd8\\xa7\\xd8\\xa8\\xd8\\xa9', 'utf-8'),\n",
    "                       str(b'\\xe2\\x80\\x8f', 'utf-8')}:\n",
    "        print('strange text')\n",
    "        print(row)\n",
    "        delete_line.append(index)\n",
    "        \n",
    "        \n",
    "    try:\n",
    "        if re.search(r\"\\s\", row['text']) and (row['text'] != ' O'):\n",
    "            print(\"several words\")\n",
    "            print(row['text'])\n",
    "            delete_line.append(index)\n",
    "    except:\n",
    "        print(\"could not use re\")\n",
    "        delete_line.append(index)\n",
    "        print(row)\n"
   ]
  },
  {
   "cell_type": "code",
   "execution_count": 91,
   "metadata": {},
   "outputs": [
    {
     "name": "stdout",
     "output_type": "stream",
     "text": [
      "153437 138093\n"
     ]
    }
   ],
   "source": [
    "df_new = df_corrected.drop(delete_line)\n",
    "fname = '/home/jupyter/data_ner_ANER/normalized_file.txt'\n",
    "df_new.to_csv(fname, sep='\\t', index=False, encoding='utf-8', header=False)\n",
    "\n",
    "# insert a newline when there is a .\n",
    "fname_input = fname\n",
    "fname_output = '/home/jupyter/data_ner_ANER/normalized_file_separate_sentence.txt' # should you actually get rid of\n",
    "\n",
    "f_in = open(fname_input, 'r', encoding='utf-8')\n",
    "f_out = open(fname_output, 'w', encoding='utf-8')\n",
    "for r in f_in.readlines():\n",
    "    f_out.write(r)\n",
    "    token = r.split('\\t')\n",
    "\n",
    "    if token[0] == '.':\n",
    "        f_out.write('\\n')\n",
    "f_in.close()\n",
    "f_out.close()\n",
    "\n",
    "# split the data into train, dev, and text. 90, 10.\n",
    "fname_full = fname_output\n",
    "fname_train = '/home/jupyter/data_ner_ANER/train.txt'\n",
    "fname_dev = '/home/jupyter/data_ner_ANER/dev.txt'\n",
    "f_in = open(fname_full, 'r', encoding='utf-8')\n",
    "f_out_train = open(fname_train, 'w', encoding='utf-8')\n",
    "f_out_dev = open(fname_dev, 'w', encoding='utf-8')\n",
    "\n",
    "count = 0\n",
    "for r in f_in.readlines():\n",
    "    count += 1\n",
    "num_train = int(count * 0.9)\n",
    "print(count, num_train)\n",
    "f_in.close()\n",
    "\n",
    "f_in = open(fname_full, 'r', encoding='utf-8')\n",
    "\n",
    "for ii, r in enumerate(f_in.readlines()):\n",
    "    if ii < num_train:\n",
    "        f_out_train.write(r)\n",
    "    else:\n",
    "        f_out_dev.write(r)\n",
    "f_in.close()\n",
    "f_out_train.close()\n",
    "f_out_dev.close()"
   ]
  }
 ],
 "metadata": {
  "kernelspec": {
   "display_name": "Python 3",
   "language": "python",
   "name": "python3"
  },
  "language_info": {
   "codemirror_mode": {
    "name": "ipython",
    "version": 3
   },
   "file_extension": ".py",
   "mimetype": "text/x-python",
   "name": "python",
   "nbconvert_exporter": "python",
   "pygments_lexer": "ipython3",
   "version": "3.7.3"
  }
 },
 "nbformat": 4,
 "nbformat_minor": 2
}
