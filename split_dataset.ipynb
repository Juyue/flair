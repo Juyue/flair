{
 "cells": [
  {
   "cell_type": "code",
   "execution_count": 25,
   "metadata": {},
   "outputs": [],
   "source": [
    "import os\n",
    "data_folder = '/home/jupyter/AQMAR/'\n",
    "create_cross_validation_set(data_folder)"
   ]
  },
  {
   "cell_type": "code",
   "execution_count": 24,
   "metadata": {},
   "outputs": [],
   "source": [
    "def create_cross_validation_set(data_folder):\n",
    "    fname = os.path.join(data_folder, 'train.txt')\n",
    "    \n",
    "    # create cross-validation. 5 fold.\n",
    "    n_set = 5\n",
    "    with open(fname, 'r', encoding='utf-8') as f:\n",
    "        count = 0\n",
    "        for r in f.readlines():\n",
    "            count += 1\n",
    "    n_lines_dev = count//n_set\n",
    "    n_lines_train = count - n_lines_dev\n",
    "    \n",
    "    # index for dev. sequentially set the validataion. not ideal. \n",
    "    dev_range = [[ii * n_lines_dev, (ii + 1) * n_lines_dev] for ii in range(n_set)]\n",
    "    dev_range[-1][-1] = count\n",
    "    \n",
    "    # splitting.\n",
    "    for ii in range(n_set):\n",
    "        dev_idx = dev_range[ii]\n",
    "        # first, make a folder. \n",
    "        data_set_folder = os.path.join(data_folder, 'data_{}'.format(ii))\n",
    "        fname_train = os.path.join(data_set_folder, 'train.txt')\n",
    "        fname_dev = os.path.join(data_set_folder, 'dev.txt')\n",
    "        if not os.path.isdir(data_set_folder):\n",
    "            os.mkdir(data_set_folder)\n",
    "        f_train = open(fname_train, 'w', encoding='utf-8')\n",
    "        f_dev = open(fname_dev, 'w', encoding='utf-8')\n",
    "\n",
    "        with open(fname, 'r', encoding='utf-8') as f:\n",
    "            for rr, content in enumerate(f.readlines()):\n",
    "                if rr >= dev_idx[0] and rr <= dev_idx[1]:\n",
    "                    f_dev.write(content)\n",
    "                else:\n",
    "                    f_train.write(content)"
   ]
  }
 ],
 "metadata": {
  "kernelspec": {
   "display_name": "Python 3",
   "language": "python",
   "name": "python3"
  },
  "language_info": {
   "codemirror_mode": {
    "name": "ipython",
    "version": 3
   },
   "file_extension": ".py",
   "mimetype": "text/x-python",
   "name": "python",
   "nbconvert_exporter": "python",
   "pygments_lexer": "ipython3",
   "version": "3.7.3"
  }
 },
 "nbformat": 4,
 "nbformat_minor": 2
}
