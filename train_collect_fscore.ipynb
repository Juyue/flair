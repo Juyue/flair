{
 "cells": [
  {
   "cell_type": "code",
   "execution_count": 17,
   "metadata": {},
   "outputs": [],
   "source": [
    "import os\n",
    "from flair.visual.training_curves import Plotter\n",
    "plotter = Plotter()"
   ]
  },
  {
   "cell_type": "code",
   "execution_count": 37,
   "metadata": {},
   "outputs": [
    {
     "name": "stdout",
     "output_type": "stream",
     "text": [
      "/home/jupyter/result_AQMAR/h32/data_0/loss.tsv\n",
      "/home/jupyter/result_AQMAR/h32/data_1/loss.tsv\n",
      "/home/jupyter/result_AQMAR/h32/data_2/loss.tsv\n",
      "/home/jupyter/result_AQMAR/h32/data_3/loss.tsv\n",
      "/home/jupyter/result_AQMAR/h32/data_4/loss.tsv\n",
      "/home/jupyter/result_AQMAR/h80/data_0/loss.tsv\n",
      "/home/jupyter/result_AQMAR/h80/data_1/loss.tsv\n",
      "/home/jupyter/result_AQMAR/h80/data_2/loss.tsv\n",
      "/home/jupyter/result_AQMAR/h80/data_3/loss.tsv\n",
      "/home/jupyter/result_AQMAR/h80/data_4/loss.tsv\n",
      "/home/jupyter/result_AQMAR/h128/data_0/loss.tsv\n",
      "/home/jupyter/result_AQMAR/h128/data_1/loss.tsv\n",
      "/home/jupyter/result_AQMAR/h128/data_2/loss.tsv\n",
      "/home/jupyter/result_AQMAR/h128/data_3/loss.tsv\n",
      "/home/jupyter/result_AQMAR/h128/data_4/loss.tsv\n"
     ]
    }
   ],
   "source": [
    "# train on cross_validation \n",
    "data_root_folder = '/home/jupyter/AQMAR/'\n",
    "result_root_folder = '/home/jupyter/result_AQMAR/'\n",
    "\n",
    "hidden_size_bank = [32, 80, 128]\n",
    "n_set = 5\n",
    "n_last_epoch = 20 # calculate the fscore for the last 10 epoches.\n",
    "\n",
    "f1_score = [[0 for _ in range(n_set)] for _ in range(len(hidden_size_bank))]\n",
    "for jj, hidden_size in enumerate(hidden_size_bank):\n",
    "    result_folder = os.path.join(result_root_folder, 'h{}'.format(hidden_size))\n",
    "    for ii in range(n_set):\n",
    "#     train_wrapper_util_cross_val_dataset(data_root_folder, result_root_folder, hidden_size)\n",
    "        file_name = os.path.join(result_folder, 'data_{}'.format(ii), 'loss.tsv')\n",
    "        print(file_name)\n",
    "        training_curves = plotter._extract_evaluation_data(file_name)\n",
    "        \n",
    "        # averaged f score for th\n",
    "        f1_score[jj][ii] = sum(training_curves['test']['loss'][-n_last_epoch:])/n_last_epoch"
   ]
  },
  {
   "cell_type": "code",
   "execution_count": 38,
   "metadata": {},
   "outputs": [
    {
     "data": {
      "text/plain": [
       "[[0.6917000000000002,\n",
       "  0.6664600000000004,\n",
       "  0.6471499999999998,\n",
       "  0.6556799999999998,\n",
       "  0.60831],\n",
       " [0.7624350000000002,\n",
       "  0.75467,\n",
       "  0.7134999999999999,\n",
       "  0.7167299999999999,\n",
       "  0.65033],\n",
       " [0.779165,\n",
       "  0.7509999999999998,\n",
       "  0.7527950000000001,\n",
       "  0.7270000000000002,\n",
       "  0.7175849999999998]]"
      ]
     },
     "execution_count": 38,
     "metadata": {},
     "output_type": "execute_result"
    }
   ],
   "source": [
    "f1_score"
   ]
  }
 ],
 "metadata": {
  "kernelspec": {
   "display_name": "Python 3",
   "language": "python",
   "name": "python3"
  },
  "language_info": {
   "codemirror_mode": {
    "name": "ipython",
    "version": 3
   },
   "file_extension": ".py",
   "mimetype": "text/x-python",
   "name": "python",
   "nbconvert_exporter": "python",
   "pygments_lexer": "ipython3",
   "version": "3.7.3"
  }
 },
 "nbformat": 4,
 "nbformat_minor": 2
}
